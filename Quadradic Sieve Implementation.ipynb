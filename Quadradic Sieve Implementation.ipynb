{
 "cells": [
  {
   "cell_type": "code",
   "execution_count": 248,
   "metadata": {},
   "outputs": [],
   "source": [
    "#Number to factor\n",
    "N = 1051*1061*1063"
   ]
  },
  {
   "cell_type": "code",
   "execution_count": 249,
   "metadata": {},
   "outputs": [
    {
     "name": "stdout",
     "output_type": "stream",
     "text": [
      "Looking for 394-smooth numbers\n"
     ]
    }
   ],
   "source": [
    "# (a) find a smoothness bound B and find primes up to B (e.g., using Eratosthenes)\n",
    "B = exp((1/2 + .25)*(log(N) *log(log(N)))^(1/2))\n",
    "B = round(B)\n",
    "print(\"Looking for \", B, \"-smooth numbers\", sep=\"\")"
   ]
  },
  {
   "cell_type": "code",
   "execution_count": 250,
   "metadata": {},
   "outputs": [
    {
     "name": "stdout",
     "output_type": "stream",
     "text": [
      "number or primes less than B: 77\n"
     ]
    }
   ],
   "source": [
    "# p is list of primes less than B\n",
    "P = Primes()\n",
    "nextprime =2\n",
    "p = []\n",
    "while(nextprime <B):\n",
    "    p.append(nextprime)\n",
    "    nextprime = P.next(p[len(p)-1])\n",
    "print(\"number or primes less than B:\", len(p))"
   ]
  },
  {
   "cell_type": "code",
   "execution_count": 266,
   "metadata": {},
   "outputs": [
    {
     "name": "stdout",
     "output_type": "stream",
     "text": [
      "1\n",
      "0\n",
      "length of p: 77\n",
      "found  1 / 77  a_i k =  112958031\n",
      "found  2 / 77  a_i k =  214696572\n",
      "found  3 / 77  a_i k =  616367970\n",
      "found  4 / 77  a_i k =  1099754105\n",
      "found  5 / 77  a_i k =  127246181\n",
      "found  6 / 77  a_i k =  684283549\n",
      "found  7 / 77  a_i k =  479175385\n",
      "found  8 / 77  a_i k =  898865918\n",
      "found  9 / 77  a_i k =  203461414\n",
      "found  10 / 77  a_i k =  657125810\n",
      "found  11 / 77  a_i k =  707336132\n",
      "found  12 / 77  a_i k =  446738699\n",
      "found  13 / 77  a_i k =  948408608\n",
      "found  14 / 77  a_i k =  707793106\n",
      "found  15 / 77  a_i k =  902704758\n",
      "found  16 / 77  a_i k =  122262340\n",
      "found  17 / 77  a_i k =  866225284\n",
      "found  18 / 77  a_i k =  292063602\n",
      "found  19 / 77  a_i k =  427227117\n",
      "found  20 / 77  a_i k =  155912540\n",
      "found  21 / 77  a_i k =  73147691\n",
      "found  22 / 77  a_i k =  872672977\n",
      "found  23 / 77  a_i k =  423238787\n",
      "found  24 / 77  a_i k =  830954572\n",
      "found  25 / 77  a_i k =  477065815\n",
      "found  26 / 77  a_i k =  536543807\n",
      "found  27 / 77  a_i k =  942369376\n",
      "found  28 / 77  a_i k =  741620324\n",
      "found  29 / 77  a_i k =  165289431\n",
      "found  30 / 77  a_i k =  188372287\n",
      "found  31 / 77  a_i k =  1044717999\n",
      "found  32 / 77  a_i k =  910393730\n",
      "found  33 / 77  a_i k =  864301213\n",
      "found  34 / 77  a_i k =  767832606\n",
      "found  35 / 77  a_i k =  979910517\n",
      "found  36 / 77  a_i k =  312921960\n",
      "found  37 / 77  a_i k =  1148958102\n",
      "found  38 / 77  a_i k =  928487950\n",
      "found  39 / 77  a_i k =  150878660\n",
      "found  40 / 77  a_i k =  611000443\n",
      "found  41 / 77  a_i k =  972363020\n",
      "found  42 / 77  a_i k =  72988136\n",
      "found  43 / 77  a_i k =  374346403\n",
      "found  44 / 77  a_i k =  466663441\n",
      "found  45 / 77  a_i k =  21043269\n",
      "found  46 / 77  a_i k =  969923399\n",
      "found  47 / 77  a_i k =  483824991\n",
      "found  48 / 77  a_i k =  491736862\n",
      "found  49 / 77  a_i k =  610724073\n",
      "found  50 / 77  a_i k =  127570031\n",
      "found  51 / 77  a_i k =  253156095\n",
      "found  52 / 77  a_i k =  994650619\n",
      "found  53 / 77  a_i k =  943052730\n",
      "found  54 / 77  a_i k =  251540814\n",
      "found  55 / 77  a_i k =  198510088\n",
      "found  56 / 77  a_i k =  204155619\n",
      "found  57 / 77  a_i k =  266356022\n",
      "found  58 / 77  a_i k =  356434383\n",
      "found  59 / 77  a_i k =  20062277\n",
      "found  60 / 77  a_i k =  400130617\n",
      "found  61 / 77  a_i k =  1077012512\n",
      "found  62 / 77  a_i k =  554633500\n",
      "found  63 / 77  a_i k =  338369460\n",
      "found  64 / 77  a_i k =  11410209\n",
      "found  65 / 77  a_i k =  320304459\n",
      "found  66 / 77  a_i k =  886682604\n",
      "found  67 / 77  a_i k =  83462692\n",
      "found  68 / 77  a_i k =  644469122\n",
      "found  69 / 77  a_i k =  982506784\n",
      "found  70 / 77  a_i k =  579959515\n",
      "found  71 / 77  a_i k =  386961368\n",
      "found  72 / 77  a_i k =  1036764883\n",
      "found  73 / 77  a_i k =  248361249\n",
      "found  74 / 77  a_i k =  480892136\n",
      "found  75 / 77  a_i k =  939053150\n",
      "found  76 / 77  a_i k =  583396820\n",
      "found  77 / 77  a_i k =  1059391716\n",
      "total numbers checked: 3226\n",
      "CPU times: user 516 ms, sys: 0 ns, total: 516 ms\n",
      "Wall time: 513 ms\n"
     ]
    }
   ],
   "source": [
    "%%time \n",
    "#checks runtime, because this is the long part of the program\n",
    "\n",
    "\n",
    "#need B+1 numbers that are B-smooth\n",
    "#first pick rand num then check if B-smooth then add if true\n",
    "\n",
    "#checks B-smooth and outputs vectorized factors if true\n",
    "#list of primes less than B is called p\n",
    "print(1)\n",
    "F = GF(2)\n",
    "a = []#list of a_i\n",
    "\n",
    "\n",
    "j = 0\n",
    "print(j)\n",
    "b = zero_vector(F, len(p))\n",
    "M = Matrix(F, len(p))\n",
    "o = 0\n",
    "print(\"length of p:\" , len(p))\n",
    "while (len(a) < len(p)):\n",
    "    k = randrange(round(N)) # candidate for a_i\n",
    "    o = o +1\n",
    "    b = zero_vector(F, len(p))\n",
    "    #print(\"k = \", k, \" looking for the \", j+1, \"/\", len(p), \" a_i\", sep = \"\") \n",
    "    if( k == 0):\n",
    "        break\n",
    "    l = k^2 % N\n",
    "    for i in range(len(p)):\n",
    "        while (l % p[i] ==0):\n",
    "            b[i] = b[i] + 1\n",
    "            l = l/p[i]\n",
    "        if( l ==1):\n",
    "            a.append(k)\n",
    "            M[j] = b\n",
    "            j = j+1\n",
    "            print(\"found \", j, \"/\", len(p), \" a_i\", \"k = \",k,) #\" Vectorized factors: \",b, sep=\"\")\n",
    "            break\n",
    "        \n",
    "a = vector(a)\n",
    "print(\"total numbers checked:\", o)"
   ]
  },
  {
   "cell_type": "code",
   "execution_count": 267,
   "metadata": {},
   "outputs": [
    {
     "name": "stdout",
     "output_type": "stream",
     "text": [
      "CPU times: user 0 ns, sys: 0 ns, total: 0 ns\n",
      "Wall time: 11.7 ms\n"
     ]
    }
   ],
   "source": [
    "%%time\n",
    "#solves for the kernal of M, Any vector in the kernal will give us a recipe for a square number\n",
    "v = M.right_kernel()\n"
   ]
  },
  {
   "cell_type": "code",
   "execution_count": 268,
   "metadata": {},
   "outputs": [
    {
     "name": "stdout",
     "output_type": "stream",
     "text": [
      "1 1 623478660 340545013\n"
     ]
    }
   ],
   "source": [
    "#check random vector that is square once\n",
    "e = v.random_element()\n",
    "proda= 1\n",
    "prodb =1\n",
    "for i in range(len(e)):\n",
    "    if(e[i] == 1):\n",
    "        proda = proda * a[i] %N\n",
    "        prodb = prodb * (a[i]^2 % N)  %N\n",
    "     \n",
    "print(gcd(proda-prodb, N), gcd(proda+prodb, N), proda, prodb)"
   ]
  },
  {
   "cell_type": "code",
   "execution_count": 184,
   "metadata": {},
   "outputs": [
    {
     "data": {
      "text/plain": [
       "11 * 13 * 17"
      ]
     },
     "execution_count": 184,
     "metadata": {},
     "output_type": "execute_result"
    }
   ],
   "source": [
    "factor(2431)"
   ]
  },
  {
   "cell_type": "code",
   "execution_count": 270,
   "metadata": {},
   "outputs": [
    {
     "name": "stdout",
     "output_type": "stream",
     "text": [
      "1051 1\n"
     ]
    }
   ],
   "source": [
    "#checks random vectors until non trivial factor is found( may run forever if no factors are in vectorspace v)\n",
    "primep = 1\n",
    "primeb = 1\n",
    "while (primep ==1 and primeb ==1):\n",
    "    e = v.random_element()\n",
    "    proda= 1\n",
    "    prodb =1\n",
    "    for i in range(len(e)):\n",
    "        if(e[i] == 1):\n",
    "            proda = proda * a[i] %N\n",
    "            prodb = prodb * (a[i]^2 % N)  %N\n",
    "     \n",
    "    primep = gcd(proda-prodb, N)\n",
    "    primeb = gcd(proda+prodb, N)\n",
    "print(primep, primeb)"
   ]
  },
  {
   "cell_type": "code",
   "execution_count": 154,
   "metadata": {},
   "outputs": [
    {
     "data": {
      "text/plain": [
       "False"
      ]
     },
     "execution_count": 154,
     "metadata": {},
     "output_type": "execute_result"
    }
   ],
   "source": [
    "#built in python to double check if N is actually prime\n",
    "in_prime(N)"
   ]
  },
  {
   "cell_type": "code",
   "execution_count": null,
   "metadata": {},
   "outputs": [],
   "source": []
  }
 ],
 "metadata": {
  "kernelspec": {
   "display_name": "SageMath 9.3",
   "language": "sage",
   "name": "sagemath"
  },
  "language_info": {
   "codemirror_mode": {
    "name": "ipython",
    "version": 3
   },
   "file_extension": ".py",
   "mimetype": "text/x-python",
   "name": "python",
   "nbconvert_exporter": "python",
   "pygments_lexer": "ipython3",
   "version": "3.7.10"
  }
 },
 "nbformat": 4,
 "nbformat_minor": 4
}
