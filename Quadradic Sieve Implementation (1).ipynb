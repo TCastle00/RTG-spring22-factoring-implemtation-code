{
 "cells": [
  {
   "cell_type": "code",
   "execution_count": 53,
   "metadata": {},
   "outputs": [
    {
     "name": "stdout",
     "output_type": "stream",
     "text": [
      "Looking to factor: 1185362993\n"
     ]
    }
   ],
   "source": [
    "#N umber to factor\n",
    "N = 1051*1061*1063\n",
    "print(\"Looking to factor:\", N)"
   ]
  },
  {
   "cell_type": "code",
   "execution_count": 54,
   "metadata": {},
   "outputs": [
    {
     "name": "stdout",
     "output_type": "stream",
     "text": [
      "Looking for 394-smooth numbers\n"
     ]
    }
   ],
   "source": [
    "# (a) find a smoothness bound B and find primes up to B (e.g., using Eratosthenes)\n",
    "B = exp((1/2 + .25)*(log(N) *log(log(N)))^(1/2))\n",
    "B = round(B)\n",
    "print(\"Looking for \", B, \"-smooth numbers\", sep=\"\")"
   ]
  },
  {
   "cell_type": "code",
   "execution_count": 55,
   "metadata": {},
   "outputs": [
    {
     "name": "stdout",
     "output_type": "stream",
     "text": [
      "number or primes less than B=394: 77\n"
     ]
    }
   ],
   "source": [
    "# p is list of primes less than B\n",
    "P = Primes()\n",
    "nextprime =2\n",
    "p = []\n",
    "while(nextprime <B):\n",
    "    p.append(nextprime)\n",
    "    nextprime = P.next(p[len(p)-1])\n",
    "print(\"number or primes less than B=\", B, \": \", len(p), sep = \"\")"
   ]
  },
  {
   "cell_type": "code",
   "execution_count": 56,
   "metadata": {
    "scrolled": false
   },
   "outputs": [
    {
     "name": "stdout",
     "output_type": "stream",
     "text": [
      "0\n",
      "length of p: 77\n",
      "found  1 / 77  a_i, k =  652138219\n",
      "found  2 / 77  a_i, k =  420721210\n",
      "found  3 / 77  a_i, k =  103219046\n",
      "found  4 / 77  a_i, k =  956601245\n",
      "found  5 / 77  a_i, k =  8775612\n",
      "found  6 / 77  a_i, k =  376807364\n",
      "found  7 / 77  a_i, k =  196465238\n",
      "found  8 / 77  a_i, k =  1075382137\n",
      "found  9 / 77  a_i, k =  155038248\n",
      "found  10 / 77  a_i, k =  611331358\n",
      "found  11 / 77  a_i, k =  953582896\n",
      "found  12 / 77  a_i, k =  44630489\n",
      "found  13 / 77  a_i, k =  597809645\n",
      "found  14 / 77  a_i, k =  161539346\n",
      "found  15 / 77  a_i, k =  901288211\n",
      "found  16 / 77  a_i, k =  597457077\n",
      "found  17 / 77  a_i, k =  973927822\n",
      "found  18 / 77  a_i, k =  505105970\n",
      "found  19 / 77  a_i, k =  1102122119\n",
      "found  20 / 77  a_i, k =  683641450\n",
      "found  21 / 77  a_i, k =  219439580\n",
      "found  22 / 77  a_i, k =  1128218411\n",
      "found  23 / 77  a_i, k =  348211364\n",
      "found  24 / 77  a_i, k =  332341159\n",
      "found  25 / 77  a_i, k =  743475623\n",
      "found  26 / 77  a_i, k =  414292199\n",
      "found  27 / 77  a_i, k =  1011035872\n",
      "found  28 / 77  a_i, k =  928642185\n",
      "found  29 / 77  a_i, k =  903958725\n",
      "found  30 / 77  a_i, k =  706642261\n",
      "found  31 / 77  a_i, k =  1166262520\n",
      "found  32 / 77  a_i, k =  1112641388\n",
      "found  33 / 77  a_i, k =  91791772\n",
      "found  34 / 77  a_i, k =  815442694\n",
      "found  35 / 77  a_i, k =  1034996274\n",
      "found  36 / 77  a_i, k =  863442481\n",
      "found  37 / 77  a_i, k =  379714771\n",
      "found  38 / 77  a_i, k =  947503194\n",
      "found  39 / 77  a_i, k =  421207986\n",
      "found  40 / 77  a_i, k =  764699004\n",
      "found  41 / 77  a_i, k =  760121879\n",
      "found  42 / 77  a_i, k =  693260555\n",
      "found  43 / 77  a_i, k =  972278576\n",
      "found  44 / 77  a_i, k =  527755638\n",
      "found  45 / 77  a_i, k =  185873852\n",
      "found  46 / 77  a_i, k =  315396070\n",
      "found  47 / 77  a_i, k =  792620254\n",
      "found  48 / 77  a_i, k =  357136407\n",
      "found  49 / 77  a_i, k =  982652923\n",
      "found  50 / 77  a_i, k =  355249937\n",
      "found  51 / 77  a_i, k =  142243019\n",
      "found  52 / 77  a_i, k =  44962626\n",
      "found  53 / 77  a_i, k =  898594058\n",
      "found  54 / 77  a_i, k =  109277994\n",
      "found  55 / 77  a_i, k =  182059512\n",
      "found  56 / 77  a_i, k =  909375179\n",
      "found  57 / 77  a_i, k =  450586514\n",
      "found  58 / 77  a_i, k =  321058702\n",
      "found  59 / 77  a_i, k =  1025569180\n",
      "found  60 / 77  a_i, k =  363526246\n",
      "found  61 / 77  a_i, k =  1181412430\n",
      "found  62 / 77  a_i, k =  39417744\n",
      "found  63 / 77  a_i, k =  523724754\n",
      "found  64 / 77  a_i, k =  435032066\n",
      "found  65 / 77  a_i, k =  140691440\n",
      "found  66 / 77  a_i, k =  1012886942\n",
      "found  67 / 77  a_i, k =  925709039\n",
      "found  68 / 77  a_i, k =  1174970650\n",
      "found  69 / 77  a_i, k =  569119342\n",
      "found  70 / 77  a_i, k =  704190942\n",
      "found  71 / 77  a_i, k =  799858269\n",
      "found  72 / 77  a_i, k =  479542478\n",
      "found  73 / 77  a_i, k =  646851780\n",
      "found  74 / 77  a_i, k =  838356215\n",
      "found  75 / 77  a_i, k =  1015977382\n",
      "found  76 / 77  a_i, k =  1055571377\n",
      "found  77 / 77  a_i, k =  684653983\n",
      "total numbers checked: 3171\n",
      "CPU times: user 531 ms, sys: 16 ms, total: 547 ms\n",
      "Wall time: 522 ms\n"
     ]
    }
   ],
   "source": [
    "%%time \n",
    "#checks runtime, because this is the long part of the program\n",
    "\n",
    "\n",
    "#need len(p)+1 numbers that are B-smooth\n",
    "#first pick rand num then check if B-smooth then add to list if true\n",
    "\n",
    "#checks B-smooth and outputs vectorized factors if it is B-smooth\n",
    "F = GF(2)\n",
    "a = []#list of a_i\n",
    "\n",
    "\n",
    "j = 0\n",
    "print(j)\n",
    "b = zero_vector(F, len(p))\n",
    "M = Matrix(F, len(p))\n",
    "o = 0\n",
    "print(\"length of p:\" , len(p))\n",
    "while (len(a) < len(p)):\n",
    "    k = randrange(round(N)) # candidate for a_i\n",
    "    o = o +1\n",
    "    b = zero_vector(F, len(p))\n",
    "    #print(\"k = \", k, \" looking for the \", j+1, \"/\", len(p), \" a_i\", sep = \"\") \n",
    "    if( k == 0):\n",
    "        break\n",
    "    l = k^2 % N\n",
    "    for i in range(len(p)):\n",
    "        while (l % p[i] ==0):\n",
    "            b[i] = b[i] + 1\n",
    "            l = l/p[i]\n",
    "        if( l ==1):\n",
    "            a.append(k)\n",
    "            M[j] = b\n",
    "            j = j+1\n",
    "            print(\"found \", j, \"/\", len(p), \" a_i,\", \"k = \",k,) #\" Vectorized factors: \",b, sep=\"\")\n",
    "            break\n",
    "        \n",
    "a = vector(a)\n",
    "print(\"total numbers checked:\", o)"
   ]
  },
  {
   "cell_type": "code",
   "execution_count": 57,
   "metadata": {},
   "outputs": [
    {
     "name": "stdout",
     "output_type": "stream",
     "text": [
      "CPU times: user 16 ms, sys: 0 ns, total: 16 ms\n",
      "Wall time: 13.2 ms\n"
     ]
    }
   ],
   "source": [
    "%%time\n",
    "#solves for the kernal of M, Any vector in the kernal will give us a recipe for a square number\n",
    "v = M.right_kernel()\n"
   ]
  },
  {
   "cell_type": "code",
   "execution_count": 58,
   "metadata": {},
   "outputs": [
    {
     "name": "stdout",
     "output_type": "stream",
     "text": [
      "1 1 849614225 474882183\n"
     ]
    }
   ],
   "source": [
    "#check random vector that is square once\n",
    "e = v.random_element()\n",
    "proda= 1\n",
    "prodb =1\n",
    "for i in range(len(e)):\n",
    "    if(e[i] == 1):\n",
    "        proda = proda * a[i] %N\n",
    "        prodb = prodb * (a[i]^2 % N)  %N\n",
    "     \n",
    "print(gcd(proda-prodb, N), gcd(proda+prodb, N), proda, prodb)"
   ]
  },
  {
   "cell_type": "code",
   "execution_count": 72,
   "metadata": {},
   "outputs": [
    {
     "name": "stdout",
     "output_type": "stream",
     "text": [
      "1 1061\n"
     ]
    }
   ],
   "source": [
    "#checks random vectors until non trivial factor is found( may run forever if no factors are in vectorspace v)\n",
    "primep = 1\n",
    "primeb = 1\n",
    "while ((primep ==1 or primep == N) and (primeb ==1 or primeb ==N)):\n",
    "    e = v.random_element()\n",
    "    proda= 1\n",
    "    prodb =1\n",
    "    for i in range(len(e)):\n",
    "        if(e[i] == 1):\n",
    "            proda = proda * a[i] %N\n",
    "            prodb = prodb * (a[i]^2 % N)  %N\n",
    "     \n",
    "    primep = gcd(proda-prodb, N)\n",
    "    primeb = gcd(proda+prodb, N)\n",
    "print(primep, primeb)"
   ]
  },
  {
   "cell_type": "code",
   "execution_count": 34,
   "metadata": {},
   "outputs": [
    {
     "data": {
      "text/plain": [
       "False"
      ]
     },
     "execution_count": 34,
     "metadata": {},
     "output_type": "execute_result"
    }
   ],
   "source": [
    "#built in python to double check if N is actually prime\n",
    "is_prime(N)"
   ]
  },
  {
   "cell_type": "code",
   "execution_count": null,
   "metadata": {},
   "outputs": [],
   "source": []
  }
 ],
 "metadata": {
  "kernelspec": {
   "display_name": "SageMath 9.3",
   "language": "sage",
   "name": "sagemath"
  },
  "language_info": {
   "codemirror_mode": {
    "name": "ipython",
    "version": 3
   },
   "file_extension": ".py",
   "mimetype": "text/x-python",
   "name": "python",
   "nbconvert_exporter": "python",
   "pygments_lexer": "ipython3",
   "version": "3.7.10"
  }
 },
 "nbformat": 4,
 "nbformat_minor": 4
}
